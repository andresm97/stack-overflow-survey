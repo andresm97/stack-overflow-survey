{
 "cells": [
  {
   "cell_type": "code",
   "execution_count": 1,
   "id": "4527646f",
   "metadata": {},
   "outputs": [
    {
     "data": {
      "text/html": [
       "<div>\n",
       "<style scoped>\n",
       "    .dataframe tbody tr th:only-of-type {\n",
       "        vertical-align: middle;\n",
       "    }\n",
       "\n",
       "    .dataframe tbody tr th {\n",
       "        vertical-align: top;\n",
       "    }\n",
       "\n",
       "    .dataframe thead th {\n",
       "        text-align: right;\n",
       "    }\n",
       "</style>\n",
       "<table border=\"1\" class=\"dataframe\">\n",
       "  <thead>\n",
       "    <tr style=\"text-align: right;\">\n",
       "      <th></th>\n",
       "      <th>ResponseId</th>\n",
       "      <th>MainBranch</th>\n",
       "      <th>Employment</th>\n",
       "      <th>Country</th>\n",
       "      <th>US_State</th>\n",
       "      <th>UK_Country</th>\n",
       "      <th>EdLevel</th>\n",
       "      <th>Age1stCode</th>\n",
       "      <th>LearnCode</th>\n",
       "      <th>YearsCode</th>\n",
       "      <th>...</th>\n",
       "      <th>Age</th>\n",
       "      <th>Gender</th>\n",
       "      <th>Trans</th>\n",
       "      <th>Sexuality</th>\n",
       "      <th>Ethnicity</th>\n",
       "      <th>Accessibility</th>\n",
       "      <th>MentalHealth</th>\n",
       "      <th>SurveyLength</th>\n",
       "      <th>SurveyEase</th>\n",
       "      <th>ConvertedCompYearly</th>\n",
       "    </tr>\n",
       "  </thead>\n",
       "  <tbody>\n",
       "    <tr>\n",
       "      <th>0</th>\n",
       "      <td>1</td>\n",
       "      <td>I am a developer by profession</td>\n",
       "      <td>Independent contractor, freelancer, or self-em...</td>\n",
       "      <td>Slovakia</td>\n",
       "      <td>NaN</td>\n",
       "      <td>NaN</td>\n",
       "      <td>Secondary school (e.g. American high school, G...</td>\n",
       "      <td>18 - 24 years</td>\n",
       "      <td>Coding Bootcamp;Other online resources (ex: vi...</td>\n",
       "      <td>NaN</td>\n",
       "      <td>...</td>\n",
       "      <td>25-34 years old</td>\n",
       "      <td>Man</td>\n",
       "      <td>No</td>\n",
       "      <td>Straight / Heterosexual</td>\n",
       "      <td>White or of European descent</td>\n",
       "      <td>None of the above</td>\n",
       "      <td>None of the above</td>\n",
       "      <td>Appropriate in length</td>\n",
       "      <td>Easy</td>\n",
       "      <td>62268.0</td>\n",
       "    </tr>\n",
       "    <tr>\n",
       "      <th>1</th>\n",
       "      <td>2</td>\n",
       "      <td>I am a student who is learning to code</td>\n",
       "      <td>Student, full-time</td>\n",
       "      <td>Netherlands</td>\n",
       "      <td>NaN</td>\n",
       "      <td>NaN</td>\n",
       "      <td>Bachelor’s degree (B.A., B.S., B.Eng., etc.)</td>\n",
       "      <td>11 - 17 years</td>\n",
       "      <td>Other online resources (ex: videos, blogs, etc...</td>\n",
       "      <td>7</td>\n",
       "      <td>...</td>\n",
       "      <td>18-24 years old</td>\n",
       "      <td>Man</td>\n",
       "      <td>No</td>\n",
       "      <td>Straight / Heterosexual</td>\n",
       "      <td>White or of European descent</td>\n",
       "      <td>None of the above</td>\n",
       "      <td>None of the above</td>\n",
       "      <td>Appropriate in length</td>\n",
       "      <td>Easy</td>\n",
       "      <td>NaN</td>\n",
       "    </tr>\n",
       "    <tr>\n",
       "      <th>2</th>\n",
       "      <td>3</td>\n",
       "      <td>I am not primarily a developer, but I write co...</td>\n",
       "      <td>Student, full-time</td>\n",
       "      <td>Russian Federation</td>\n",
       "      <td>NaN</td>\n",
       "      <td>NaN</td>\n",
       "      <td>Bachelor’s degree (B.A., B.S., B.Eng., etc.)</td>\n",
       "      <td>11 - 17 years</td>\n",
       "      <td>Other online resources (ex: videos, blogs, etc...</td>\n",
       "      <td>NaN</td>\n",
       "      <td>...</td>\n",
       "      <td>18-24 years old</td>\n",
       "      <td>Man</td>\n",
       "      <td>No</td>\n",
       "      <td>Prefer not to say</td>\n",
       "      <td>Prefer not to say</td>\n",
       "      <td>None of the above</td>\n",
       "      <td>None of the above</td>\n",
       "      <td>Appropriate in length</td>\n",
       "      <td>Easy</td>\n",
       "      <td>NaN</td>\n",
       "    </tr>\n",
       "    <tr>\n",
       "      <th>3</th>\n",
       "      <td>4</td>\n",
       "      <td>I am a developer by profession</td>\n",
       "      <td>Employed full-time</td>\n",
       "      <td>Austria</td>\n",
       "      <td>NaN</td>\n",
       "      <td>NaN</td>\n",
       "      <td>Master’s degree (M.A., M.S., M.Eng., MBA, etc.)</td>\n",
       "      <td>11 - 17 years</td>\n",
       "      <td>NaN</td>\n",
       "      <td>NaN</td>\n",
       "      <td>...</td>\n",
       "      <td>35-44 years old</td>\n",
       "      <td>Man</td>\n",
       "      <td>No</td>\n",
       "      <td>Straight / Heterosexual</td>\n",
       "      <td>White or of European descent</td>\n",
       "      <td>I am deaf / hard of hearing</td>\n",
       "      <td>NaN</td>\n",
       "      <td>Appropriate in length</td>\n",
       "      <td>Neither easy nor difficult</td>\n",
       "      <td>NaN</td>\n",
       "    </tr>\n",
       "    <tr>\n",
       "      <th>4</th>\n",
       "      <td>5</td>\n",
       "      <td>I am a developer by profession</td>\n",
       "      <td>Independent contractor, freelancer, or self-em...</td>\n",
       "      <td>United Kingdom of Great Britain and Northern I...</td>\n",
       "      <td>NaN</td>\n",
       "      <td>England</td>\n",
       "      <td>Master’s degree (M.A., M.S., M.Eng., MBA, etc.)</td>\n",
       "      <td>5 - 10 years</td>\n",
       "      <td>Friend or family member</td>\n",
       "      <td>17</td>\n",
       "      <td>...</td>\n",
       "      <td>25-34 years old</td>\n",
       "      <td>Man</td>\n",
       "      <td>No</td>\n",
       "      <td>NaN</td>\n",
       "      <td>White or of European descent</td>\n",
       "      <td>None of the above</td>\n",
       "      <td>NaN</td>\n",
       "      <td>Appropriate in length</td>\n",
       "      <td>Easy</td>\n",
       "      <td>NaN</td>\n",
       "    </tr>\n",
       "  </tbody>\n",
       "</table>\n",
       "<p>5 rows × 48 columns</p>\n",
       "</div>"
      ],
      "text/plain": [
       "   ResponseId                                         MainBranch  \\\n",
       "0           1                     I am a developer by profession   \n",
       "1           2             I am a student who is learning to code   \n",
       "2           3  I am not primarily a developer, but I write co...   \n",
       "3           4                     I am a developer by profession   \n",
       "4           5                     I am a developer by profession   \n",
       "\n",
       "                                          Employment  \\\n",
       "0  Independent contractor, freelancer, or self-em...   \n",
       "1                                 Student, full-time   \n",
       "2                                 Student, full-time   \n",
       "3                                 Employed full-time   \n",
       "4  Independent contractor, freelancer, or self-em...   \n",
       "\n",
       "                                             Country US_State UK_Country  \\\n",
       "0                                           Slovakia      NaN        NaN   \n",
       "1                                        Netherlands      NaN        NaN   \n",
       "2                                 Russian Federation      NaN        NaN   \n",
       "3                                            Austria      NaN        NaN   \n",
       "4  United Kingdom of Great Britain and Northern I...      NaN    England   \n",
       "\n",
       "                                             EdLevel     Age1stCode  \\\n",
       "0  Secondary school (e.g. American high school, G...  18 - 24 years   \n",
       "1       Bachelor’s degree (B.A., B.S., B.Eng., etc.)  11 - 17 years   \n",
       "2       Bachelor’s degree (B.A., B.S., B.Eng., etc.)  11 - 17 years   \n",
       "3    Master’s degree (M.A., M.S., M.Eng., MBA, etc.)  11 - 17 years   \n",
       "4    Master’s degree (M.A., M.S., M.Eng., MBA, etc.)   5 - 10 years   \n",
       "\n",
       "                                           LearnCode YearsCode  ...  \\\n",
       "0  Coding Bootcamp;Other online resources (ex: vi...       NaN  ...   \n",
       "1  Other online resources (ex: videos, blogs, etc...         7  ...   \n",
       "2  Other online resources (ex: videos, blogs, etc...       NaN  ...   \n",
       "3                                                NaN       NaN  ...   \n",
       "4                            Friend or family member        17  ...   \n",
       "\n",
       "               Age Gender Trans                Sexuality  \\\n",
       "0  25-34 years old    Man    No  Straight / Heterosexual   \n",
       "1  18-24 years old    Man    No  Straight / Heterosexual   \n",
       "2  18-24 years old    Man    No        Prefer not to say   \n",
       "3  35-44 years old    Man    No  Straight / Heterosexual   \n",
       "4  25-34 years old    Man    No                      NaN   \n",
       "\n",
       "                      Ethnicity                Accessibility  \\\n",
       "0  White or of European descent            None of the above   \n",
       "1  White or of European descent            None of the above   \n",
       "2             Prefer not to say            None of the above   \n",
       "3  White or of European descent  I am deaf / hard of hearing   \n",
       "4  White or of European descent            None of the above   \n",
       "\n",
       "        MentalHealth           SurveyLength                  SurveyEase  \\\n",
       "0  None of the above  Appropriate in length                        Easy   \n",
       "1  None of the above  Appropriate in length                        Easy   \n",
       "2  None of the above  Appropriate in length                        Easy   \n",
       "3                NaN  Appropriate in length  Neither easy nor difficult   \n",
       "4                NaN  Appropriate in length                        Easy   \n",
       "\n",
       "  ConvertedCompYearly  \n",
       "0             62268.0  \n",
       "1                 NaN  \n",
       "2                 NaN  \n",
       "3                 NaN  \n",
       "4                 NaN  \n",
       "\n",
       "[5 rows x 48 columns]"
      ]
     },
     "execution_count": 1,
     "metadata": {},
     "output_type": "execute_result"
    }
   ],
   "source": [
    "#Import libraries and first look a the data \n",
    "import numpy as np\n",
    "import pandas as pd\n",
    "import matplotlib.pyplot as plt\n",
    "import seaborn as sns\n",
    "%matplotlib inline\n",
    "from collections import defaultdict\n",
    "\n",
    "df = pd.read_csv('survey_results_public.csv')\n",
    "schema = pd.read_csv('survey_results_schema.csv')\n",
    "df.head()"
   ]
  },
  {
   "cell_type": "code",
   "execution_count": 2,
   "id": "d8d23146",
   "metadata": {},
   "outputs": [
    {
     "name": "stdout",
     "output_type": "stream",
     "text": [
      "<class 'pandas.core.frame.DataFrame'>\n",
      "RangeIndex: 83439 entries, 0 to 83438\n",
      "Data columns (total 48 columns):\n",
      " #   Column                        Non-Null Count  Dtype  \n",
      "---  ------                        --------------  -----  \n",
      " 0   ResponseId                    83439 non-null  int64  \n",
      " 1   MainBranch                    83439 non-null  object \n",
      " 2   Employment                    83323 non-null  object \n",
      " 3   Country                       83439 non-null  object \n",
      " 4   US_State                      14920 non-null  object \n",
      " 5   UK_Country                    4418 non-null   object \n",
      " 6   EdLevel                       83126 non-null  object \n",
      " 7   Age1stCode                    83243 non-null  object \n",
      " 8   LearnCode                     82963 non-null  object \n",
      " 9   YearsCode                     81641 non-null  object \n",
      " 10  YearsCodePro                  61216 non-null  object \n",
      " 11  DevType                       66484 non-null  object \n",
      " 12  OrgSize                       60726 non-null  object \n",
      " 13  Currency                      61080 non-null  object \n",
      " 14  CompTotal                     47183 non-null  float64\n",
      " 15  CompFreq                      52150 non-null  object \n",
      " 16  LanguageHaveWorkedWith        82357 non-null  object \n",
      " 17  LanguageWantToWorkWith        76821 non-null  object \n",
      " 18  DatabaseHaveWorkedWith        69546 non-null  object \n",
      " 19  DatabaseWantToWorkWith        58299 non-null  object \n",
      " 20  PlatformHaveWorkedWith        52135 non-null  object \n",
      " 21  PlatformWantToWorkWith        41619 non-null  object \n",
      " 22  WebframeHaveWorkedWith        61707 non-null  object \n",
      " 23  WebframeWantToWorkWith        52095 non-null  object \n",
      " 24  MiscTechHaveWorkedWith        47055 non-null  object \n",
      " 25  MiscTechWantToWorkWith        38021 non-null  object \n",
      " 26  ToolsTechHaveWorkedWith       72537 non-null  object \n",
      " 27  ToolsTechWantToWorkWith       65480 non-null  object \n",
      " 28  NEWCollabToolsHaveWorkedWith  81234 non-null  object \n",
      " 29  NEWCollabToolsWantToWorkWith  73022 non-null  object \n",
      " 30  OpSys                         83294 non-null  object \n",
      " 31  NEWStuck                      83052 non-null  object \n",
      " 32  NEWSOSites                    83171 non-null  object \n",
      " 33  SOVisitFreq                   82413 non-null  object \n",
      " 34  SOAccount                     82525 non-null  object \n",
      " 35  SOPartFreq                    67553 non-null  object \n",
      " 36  SOComm                        82319 non-null  object \n",
      " 37  NEWOtherComms                 82828 non-null  object \n",
      " 38  Age                           82407 non-null  object \n",
      " 39  Gender                        82286 non-null  object \n",
      " 40  Trans                         80678 non-null  object \n",
      " 41  Sexuality                     73366 non-null  object \n",
      " 42  Ethnicity                     79464 non-null  object \n",
      " 43  Accessibility                 77603 non-null  object \n",
      " 44  MentalHealth                  76920 non-null  object \n",
      " 45  SurveyLength                  81711 non-null  object \n",
      " 46  SurveyEase                    81948 non-null  object \n",
      " 47  ConvertedCompYearly           46844 non-null  float64\n",
      "dtypes: float64(2), int64(1), object(45)\n",
      "memory usage: 30.6+ MB\n"
     ]
    }
   ],
   "source": [
    "df.info()"
   ]
  },
  {
   "cell_type": "code",
   "execution_count": 3,
   "id": "4f620d6c",
   "metadata": {},
   "outputs": [
    {
     "name": "stdout",
     "output_type": "stream",
     "text": [
      "UK_Country                      94.705114\n",
      "US_State                        82.118674\n",
      "MiscTechWantToWorkWith          54.432579\n",
      "PlatformWantToWorkWith          50.120447\n",
      "ConvertedCompYearly             43.858388\n",
      "MiscTechHaveWorkedWith          43.605508\n",
      "CompTotal                       43.452103\n",
      "WebframeWantToWorkWith          37.565167\n",
      "PlatformHaveWorkedWith          37.517228\n",
      "CompFreq                        37.499251\n",
      "DatabaseWantToWorkWith          30.129795\n",
      "OrgSize                         27.221084\n",
      "Currency                        26.796822\n",
      "YearsCodePro                    26.633828\n",
      "WebframeHaveWorkedWith          26.045374\n",
      "ToolsTechWantToWorkWith         21.523508\n",
      "DevType                         20.320234\n",
      "SOPartFreq                      19.039058\n",
      "DatabaseHaveWorkedWith          16.650487\n",
      "ToolsTechHaveWorkedWith         13.065833\n",
      "NEWCollabToolsWantToWorkWith    12.484570\n",
      "Sexuality                       12.072292\n",
      "LanguageWantToWorkWith           7.931543\n",
      "MentalHealth                     7.812893\n",
      "Accessibility                    6.994331\n",
      "Ethnicity                        4.763959\n",
      "Trans                            3.309004\n",
      "NEWCollabToolsHaveWorkedWith     2.642649\n",
      "YearsCode                        2.154868\n",
      "SurveyLength                     2.070974\n",
      "SurveyEase                       1.786934\n",
      "Gender                           1.381848\n",
      "SOComm                           1.342298\n",
      "LanguageHaveWorkedWith           1.296756\n",
      "Age                              1.236832\n",
      "SOVisitFreq                      1.229641\n",
      "SOAccount                        1.095411\n",
      "NEWOtherComms                    0.732271\n",
      "LearnCode                        0.570477\n",
      "NEWStuck                         0.463812\n",
      "EdLevel                          0.375124\n",
      "NEWSOSites                       0.321193\n",
      "Age1stCode                       0.234902\n",
      "OpSys                            0.173780\n",
      "Employment                       0.139024\n",
      "MainBranch                       0.000000\n",
      "Country                          0.000000\n",
      "ResponseId                       0.000000\n",
      "dtype: float64\n"
     ]
    }
   ],
   "source": [
    "#Percentage of null values \n",
    "na_ratio = ((df.isnull().sum() / len(df))*100).sort_values(ascending = False)\n",
    "print(na_ratio)"
   ]
  },
  {
   "cell_type": "markdown",
   "id": "6674e92f",
   "metadata": {},
   "source": [
    "As we can see, there is a lot of features that has a lot of missing values, but we don´t need it for our analsis. For the feature that we need it, we will drop the null values. "
   ]
  },
  {
   "cell_type": "markdown",
   "id": "35ba56be",
   "metadata": {},
   "source": [
    "To clean the data for visualization, we create to funtions"
   ]
  },
  {
   "cell_type": "code",
   "execution_count": 4,
   "id": "6bfcc39f",
   "metadata": {},
   "outputs": [],
   "source": [
    "def total_count(df, col1, col2, look_for):\n",
    "    '''\n",
    "    INPUT:\n",
    "    df - the pandas dataframe you want to search\n",
    "    col1 - the column name you want to look through\n",
    "    col2 - the column you want to count values from\n",
    "    look_for - a list of strings you want to search for in each row of df[col]\n",
    "\n",
    "    OUTPUT:\n",
    "    new_df - a dataframe of each look_for with the count of how often it shows up\n",
    "    '''\n",
    "    new_df = defaultdict(int)\n",
    "    #loop through list of ed types\n",
    "    for val in look_for:\n",
    "        #loop through rows\n",
    "        for idx in range(df.shape[0]):\n",
    "            #if the ed type is in the row add 1\n",
    "            if val in df[col1][idx]:\n",
    "                new_df[val] += int(df[col2][idx])\n",
    "    new_df = pd.DataFrame(pd.Series(new_df)).reset_index()\n",
    "    new_df.columns = [col1, col2]\n",
    "    new_df.sort_values('count', ascending=False, inplace=True)\n",
    "    return new_df"
   ]
  },
  {
   "cell_type": "code",
   "execution_count": 5,
   "id": "e8d17d73",
   "metadata": {},
   "outputs": [],
   "source": [
    "def clean_and_plot(df, column, possible_values, title='Tools', plot=True):\n",
    "    '''\n",
    "    INPUT \n",
    "        df - a dataframe \n",
    "        column - column to perfom the count  \n",
    "        possible_values - list of values to count \n",
    "        title - string the title of your plot\n",
    "        plot - bool providing whether or not you want a plot back\n",
    "        \n",
    "    OUTPUT\n",
    "        study_df - a dataframe with the count of how many individuals\n",
    "        Displays a plot of pretty things related to the CousinEducation column.\n",
    "    '''\n",
    "    data = df[column].value_counts().reset_index()\n",
    "    data.rename(columns={'index': 'Option', column: 'count'}, inplace=True)\n",
    "    count_df = total_count(data, 'Option', 'count', possible_values)\n",
    "\n",
    "    count_df.set_index('Option', inplace=True)\n",
    "    if plot:\n",
    "        \n",
    "        (count_df/count_df.sum()).plot(kind='bar', legend=None)\n",
    "        plt.title(title)\n",
    "        plt.show()\n",
    "    props_count_df = count_df/count_df.sum()\n",
    "    return props_count_df\n",
    "    "
   ]
  },
  {
   "cell_type": "markdown",
   "id": "f21bd67a",
   "metadata": {},
   "source": [
    "### What tools are the most use it?"
   ]
  },
  {
   "cell_type": "code",
   "execution_count": 6,
   "id": "790abfee",
   "metadata": {},
   "outputs": [],
   "source": [
    "df_tools = df.dropna(subset = [\"ToolsTechHaveWorkedWith\"])"
   ]
  },
  {
   "cell_type": "code",
   "execution_count": 7,
   "id": "4a183985",
   "metadata": {},
   "outputs": [],
   "source": [
    "possible_vals_tool = [\"Ansible\", \"Chef\", \"Deno\", \"Docker\", \"Flow\", \"Git\", \"Kubernetes\", \"Pulumi\", \"Puppet\", \"Terraform\", \"Unity 3D\", \"Unreal Engine\", \"Xamarin\", \"Yarn\", \"Other\"]"
   ]
  },
  {
   "cell_type": "code",
   "execution_count": 8,
   "id": "1cdc83e8",
   "metadata": {
    "scrolled": true
   },
   "outputs": [
    {
     "data": {
      "image/png": "[encoded data removed]",
      "text/plain": [
       "<Figure size 432x288 with 1 Axes>"
      ]
     },
     "metadata": {
      "needs_background": "light"
     },
     "output_type": "display_data"
    }
   ],
   "source": [
    "props_df = clean_and_plot(df_tools, \"ToolsTechHaveWorkedWith\", possible_vals_tool, title = \"What are the most used tools?\")"
   ]
  },
  {
   "cell_type": "markdown",
   "id": "7375a565",
   "metadata": {},
   "source": [
    "### What tools do you want to work with?"
   ]
  },
  {
   "cell_type": "code",
   "execution_count": 9,
   "id": "b3689df6",
   "metadata": {},
   "outputs": [
    {
     "data": {
      "image/png": "[encoded data removed]",
      "text/plain": [
       "<Figure size 432x288 with 1 Axes>"
      ]
     },
     "metadata": {
      "needs_background": "light"
     },
     "output_type": "display_data"
    }
   ],
   "source": [
    "props_df = clean_and_plot(df_tools, \"ToolsTechWantToWorkWith\", possible_vals_tool, title = \"What tool do you whant to work with?\")"
   ]
  },
  {
   "cell_type": "markdown",
   "id": "ee927ed0",
   "metadata": {},
   "source": [
    "### What do you do when you get stuck on a problem?"
   ]
  },
  {
   "cell_type": "code",
   "execution_count": 10,
   "id": "f8395447",
   "metadata": {},
   "outputs": [
    {
     "data": {
      "image/png": "[encoded data removed]",
      "text/plain": [
       "<Figure size 432x288 with 1 Axes>"
      ]
     },
     "metadata": {
      "needs_background": "light"
     },
     "output_type": "display_data"
    }
   ],
   "source": [
    "df_stuck = df.dropna(subset = [\"NEWStuck\"])\n",
    "possible_values_stuck = [\"Watch help / tutorial videos\", \"Panic\", \"Play games\", \"Meditate\", \"Call a coworker or friend\", \"Visit Stack Overflow\", \"Do other work and come back later\", \"Go for a walk or other physical activity\", \"Google it\"]\n",
    "props_df = clean_and_plot(df_stuck, \"NEWStuck\", possible_values_stuck, title = \"What do you do when you get stuck on a problem?\")"
   ]
  },
  {
   "cell_type": "markdown",
   "id": "6e0a59f2",
   "metadata": {},
   "source": [
    "### How did you learn to code?"
   ]
  },
  {
   "cell_type": "code",
   "execution_count": 11,
   "id": "81488d10",
   "metadata": {},
   "outputs": [
    {
     "data": {
      "image/png": "[encoded data removed]",
      "text/plain": [
       "<Figure size 432x288 with 1 Axes>"
      ]
     },
     "metadata": {
      "needs_background": "light"
     },
     "output_type": "display_data"
    }
   ],
   "source": [
    "df_learn = df.dropna(subset = [\"LearnCode\"])\n",
    "possible_values_stuck = [\"Books / Physical media\", \"Coding Bootcamp\", \"Friend or family member\", \"Colleague\", \"Online Courses or Certification\", \"Online Forum\", \"Other online resources (ex: videos, blogs, etc)\", \"School\"]\n",
    "props_df = clean_and_plot(df_learn, \"LearnCode\", possible_values_stuck, title = \"How did you learn to code?\")"
   ]
  },
  {
   "cell_type": "markdown",
   "id": "e7cbc7c9",
   "metadata": {},
   "source": [
    "There is no much difference between the options, so one conclusion could be that a lot of people dosn´t learn at only one place. Let´s look closer"
   ]
  },
  {
   "cell_type": "code",
   "execution_count": 12,
   "id": "7a843738",
   "metadata": {},
   "outputs": [],
   "source": [
    "def count_sep(data, delimiter = \";\"):\n",
    "    return data.count(delimiter) + 1"
   ]
  },
  {
   "cell_type": "code",
   "execution_count": 13,
   "id": "d2773246",
   "metadata": {},
   "outputs": [],
   "source": [
    "data_learn = df_learn[[\"LearnCode\"]]"
   ]
  },
  {
   "cell_type": "code",
   "execution_count": 14,
   "id": "5534f342",
   "metadata": {},
   "outputs": [
    {
     "name": "stderr",
     "output_type": "stream",
     "text": [
      "/opt/anaconda3/lib/python3.7/site-packages/ipykernel_launcher.py:1: SettingWithCopyWarning: \n",
      "A value is trying to be set on a copy of a slice from a DataFrame.\n",
      "Try using .loc[row_indexer,col_indexer] = value instead\n",
      "\n",
      "See the caveats in the documentation: https://pandas.pydata.org/pandas-docs/stable/user_guide/indexing.html#returning-a-view-versus-a-copy\n",
      "  \"\"\"Entry point for launching an IPython kernel.\n"
     ]
    }
   ],
   "source": [
    "df_learn[\"count\"] = df_learn[\"LearnCode\"].apply(count_sep)"
   ]
  },
  {
   "cell_type": "code",
   "execution_count": 15,
   "id": "0317ed65",
   "metadata": {},
   "outputs": [
    {
     "data": {
      "image/png": "[encoded data removed]",
      "text/plain": [
       "<Figure size 720x576 with 1 Axes>"
      ]
     },
     "metadata": {
      "needs_background": "light"
     },
     "output_type": "display_data"
    }
   ],
   "source": [
    "plt.figure(figsize=(10, 8))\n",
    "df_learn[\"count\"].value_counts().plot(kind = \"bar\")\n",
    "plt.title(\"How many different types of learning?\")\n",
    "plt.xlabel(\"Count\")\n",
    "plt.ylabel(\"Number of different types of learning\")\n",
    "plt.show()"
   ]
  },
  {
   "cell_type": "markdown",
   "id": "dcd3964a",
   "metadata": {},
   "source": [
    "Amazing, here we see that a lot of people learn in more that one place"
   ]
  },
  {
   "cell_type": "code",
   "execution_count": null,
   "id": "111544d5",
   "metadata": {},
   "outputs": [],
   "source": []
  }
 ],
 "metadata": {
  "kernelspec": {
   "display_name": "Python 3 (ipykernel)",
   "language": "python",
   "name": "python3"
  },
  "language_info": {
   "codemirror_mode": {
    "name": "ipython",
    "version": 3
   },
   "file_extension": ".py",
   "mimetype": "text/x-python",
   "name": "python",
   "nbconvert_exporter": "python",
   "pygments_lexer": "ipython3",
   "version": "3.7.11"
  }
 },
 "nbformat": 4,
 "nbformat_minor": 5
}
